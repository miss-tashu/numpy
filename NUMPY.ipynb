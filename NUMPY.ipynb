{
  "nbformat": 4,
  "nbformat_minor": 0,
  "metadata": {
    "colab": {
      "provenance": []
    },
    "kernelspec": {
      "name": "python3",
      "display_name": "Python 3"
    },
    "language_info": {
      "name": "python"
    }
  },
  "cells": [
    {
      "cell_type": "markdown",
      "source": [
        "THEORIES:-"
      ],
      "metadata": {
        "id": "mH7j3aNyZAVi"
      }
    },
    {
      "cell_type": "markdown",
      "source": [
        "1. Explain the purpose and advantages of NumPy in scientific computing and data analysis. How does it\n",
        "enhance Python's capabilities for numerical operations?\n",
        "\n",
        "\n"
      ],
      "metadata": {
        "id": "qiv3CEI4ZRFm"
      }
    },
    {
      "cell_type": "markdown",
      "source": [
        "\n",
        "\n",
        "THE PURPOSE AND ADVANTAGES OF NUMPY ARE:-\n",
        "\n",
        "1.numpy is a numerical python (2005 by Travis Oliphant)\n",
        "2.to manupulating and to store only homogenous data,numpy array is faster.\n",
        "3.the mathematical computation is fast.\n",
        "4.we have multiple approaches to generate any array.\n",
        "5.broadcasting,high speed and performance.\n",
        "\n",
        "Enhancement of Python's Capabilities:\n",
        "\n",
        "NumPy enhances Python's capabilities for numerical operations by:\n",
        "\n",
        "Providing a more efficient and convenient array data structure compared to native Python lists.\n",
        "Enabling high-performance computing through optimized algorithms and data structures."
      ],
      "metadata": {
        "id": "H8eIuM-tZfTl"
      }
    },
    {
      "cell_type": "markdown",
      "source": [
        "2. Compare and contrast np.mean() and np.average() functions in NumPy. When would you use one over the\n",
        "other?"
      ],
      "metadata": {
        "id": "uKSpueIlcL09"
      }
    },
    {
      "cell_type": "markdown",
      "source": [
        "np.mean():- calculates the arithmetic mean of the array elements along a specified axis.\n",
        "\n",
        "Use np.mean():\n",
        "\n",
        "When you need a simple arithmetic mean.\n",
        "When all elements contribute equally to the average.\n",
        "\n",
        "np.average():- Computes the weighted average of array elements. If no weights are provided, it behaves like np.mean().\n",
        "\n",
        "\n",
        "Use np.average():\n",
        "\n",
        "When you need to compute a weighted average.\n",
        "When different elements of the array should have different levels of importance in the average calculation."
      ],
      "metadata": {
        "id": "qIt7dWfqcRBV"
      }
    },
    {
      "cell_type": "markdown",
      "source": [],
      "metadata": {
        "id": "ZuJirKjRdhEy"
      }
    },
    {
      "cell_type": "markdown",
      "source": [
        "Use np.average():\n",
        "\n",
        "When you need to compute a weighted average.\n",
        "When different elements of the array should have different levels of importance in the average calculation."
      ],
      "metadata": {
        "id": "1DsIoUYCd23X"
      }
    },
    {
      "cell_type": "markdown",
      "source": [
        "3. Describe the methods for reversing a NumPy array along different axes. Provide examples for 1D and 2D\n",
        "arrays."
      ],
      "metadata": {
        "id": "o_5XpCnNd7iW"
      }
    },
    {
      "cell_type": "markdown",
      "source": [
        "Reversing a NumPy array can be done easily using slicing:\n",
        "\n",
        "\n",
        "for 1D array:"
      ],
      "metadata": {
        "id": "q11DtbPeePZ6"
      }
    },
    {
      "cell_type": "code",
      "source": [
        "import numpy as np\n",
        "array = np.array([1, 2, 3, 4, 5])\n",
        "reverse_1d = array[::-1]\n",
        "\n",
        "print(\"Original 1D array:\",array)\n",
        "print(\"Reversed 1D array:\", reverse_1d)"
      ],
      "metadata": {
        "colab": {
          "base_uri": "https://localhost:8080/"
        },
        "id": "PeH7p5YYeySd",
        "outputId": "0def0371-6e1f-430a-bbd5-ef05ee5c41be"
      },
      "execution_count": null,
      "outputs": [
        {
          "output_type": "stream",
          "name": "stdout",
          "text": [
            "Original 1D array: [1 2 3 4 5]\n",
            "Reversed 1D array: [5 4 3 2 1]\n"
          ]
        }
      ]
    },
    {
      "cell_type": "markdown",
      "source": [
        "For 2d array:"
      ],
      "metadata": {
        "id": "EKY_PAYReO74"
      }
    },
    {
      "cell_type": "code",
      "source": [],
      "metadata": {
        "id": "nXf7Eqg4fpdc"
      },
      "execution_count": null,
      "outputs": []
    },
    {
      "cell_type": "markdown",
      "source": [],
      "metadata": {
        "id": "BrrgJaqbeOon"
      }
    },
    {
      "cell_type": "markdown",
      "source": [],
      "metadata": {
        "id": "P30saBCTd7EF"
      }
    },
    {
      "cell_type": "code",
      "execution_count": null,
      "metadata": {
        "colab": {
          "base_uri": "https://localhost:8080/"
        },
        "id": "JkKZhw4AY5lK",
        "outputId": "ea395572-952c-49f3-e70a-7379a1805712"
      },
      "outputs": [
        {
          "output_type": "stream",
          "name": "stdout",
          "text": [
            "Original 2D array [[1 2 3]\n",
            " [4 5 6]\n",
            " [7 8 9]]\n",
            "Reversed 2D array  [[7 8 9]\n",
            " [4 5 6]\n",
            " [1 2 3]]\n"
          ]
        }
      ],
      "source": [
        "arr_2d = np.array([[1, 2, 3],\n",
        "                   [4, 5, 6],\n",
        "                   [7, 8, 9]])\n",
        "reversed_arr_2d_rows = arr_2d[::-1, :]\n",
        "\n",
        "print(\"Original 2D array\", arr_2d)\n",
        "print(\"Reversed 2D array \", reversed_arr_2d_rows)"
      ]
    },
    {
      "cell_type": "markdown",
      "source": [
        "4. How can you determine the data type of elements in a NumPy array? Discuss the importance of data types\n",
        "in memory management and performance."
      ],
      "metadata": {
        "id": "Y2xZNGzTf_h9"
      }
    },
    {
      "cell_type": "markdown",
      "source": [
        "To check the data type of a NumPy array, you can simply access the .dtype attribute:"
      ],
      "metadata": {
        "id": "nfoHwiF3Y_lJ"
      }
    },
    {
      "cell_type": "code",
      "source": [
        "import numpy as np\n",
        "arr1 = np.array([1, 2, 3])"
      ],
      "metadata": {
        "id": "NyKTE3bCgzy3"
      },
      "execution_count": null,
      "outputs": []
    },
    {
      "cell_type": "code",
      "source": [
        "arr1.dtype"
      ],
      "metadata": {
        "colab": {
          "base_uri": "https://localhost:8080/"
        },
        "id": "FMlgjTbHg1-F",
        "outputId": "7b40dd2e-c137-4b9d-d9a4-3b74fd3779a8"
      },
      "execution_count": null,
      "outputs": [
        {
          "output_type": "execute_result",
          "data": {
            "text/plain": [
              "dtype('int64')"
            ]
          },
          "metadata": {},
          "execution_count": 8
        }
      ]
    },
    {
      "cell_type": "code",
      "source": [
        "arr1 = np.array([1.0, 2.0, 3.0])\n",
        "arr1.dtype"
      ],
      "metadata": {
        "colab": {
          "base_uri": "https://localhost:8080/"
        },
        "id": "O8HJItnng_Dx",
        "outputId": "cb650364-c996-4483-e999-43993378cfe4"
      },
      "execution_count": null,
      "outputs": [
        {
          "output_type": "execute_result",
          "data": {
            "text/plain": [
              "dtype('float64')"
            ]
          },
          "metadata": {},
          "execution_count": 9
        }
      ]
    },
    {
      "cell_type": "code",
      "source": [
        "arr1 = np.array([\"a\",\"b\",\"c\"])\n",
        "arr1.dtype"
      ],
      "metadata": {
        "colab": {
          "base_uri": "https://localhost:8080/"
        },
        "id": "mcnKlhz6hIqg",
        "outputId": "164717cd-7148-4982-c274-0555acf3d860"
      },
      "execution_count": null,
      "outputs": [
        {
          "output_type": "execute_result",
          "data": {
            "text/plain": [
              "dtype('<U1')"
            ]
          },
          "metadata": {},
          "execution_count": 12
        }
      ]
    },
    {
      "cell_type": "markdown",
      "source": [
        "THE IMPORTANCE OF MEMORY MANAGEMENT AND PERFORMANCE:\n",
        "\n",
        "This is important in applications like data analysis, image processing, and machine learning, where efficiency can significantly impact performance.\n",
        "\n",
        "Operations on arrays with smaller, more specific data types can be faster.\n",
        "\n",
        "Different libraries may expect inputs in specific data types.\n",
        "\n"
      ],
      "metadata": {
        "id": "iZ5Jcf2VhpAe"
      }
    },
    {
      "cell_type": "markdown",
      "source": [
        "5. Define ndarrays in NumPy and explain their key features. How do they differ from standard Python lists?"
      ],
      "metadata": {
        "id": "b0YLWUjbjp1g"
      }
    },
    {
      "cell_type": "markdown",
      "source": [
        " Ndarrays (n-dimensional arrays) are the core data structure used for representing and manipulating multi-dimensional data.\n",
        "\n",
        " The key features are-\n",
        "\n",
        " it stores homogenous data\n",
        "\n",
        " it has higher efficiency\n",
        "\n",
        " it is multidimensional\n",
        "\n",
        " it has slicing and indexing\n"
      ],
      "metadata": {
        "id": "4uhn76Qkj4CR"
      }
    },
    {
      "cell_type": "code",
      "source": [
        "import numpy as np\n",
        "\n",
        "arr_np = np.array([1, 2, 3, 4, 5])\n",
        "print(\"NumPy array:\", arr_np)\n",
        "print(\"Data type:\", arr_np.dtype)"
      ],
      "metadata": {
        "id": "xwmLu2o0hWX9",
        "colab": {
          "base_uri": "https://localhost:8080/"
        },
        "outputId": "475fafc3-0a63-4b7f-efa7-39f382450a38"
      },
      "execution_count": 13,
      "outputs": [
        {
          "output_type": "stream",
          "name": "stdout",
          "text": [
            "NumPy array: [1 2 3 4 5]\n",
            "Data type: int64\n"
          ]
        }
      ]
    },
    {
      "cell_type": "markdown",
      "source": [
        "it is different from lists."
      ],
      "metadata": {
        "id": "M2qIbfNMr--D"
      }
    },
    {
      "cell_type": "code",
      "source": [
        "arr_list = [1, 2, 3, 4, 5]\n",
        "print(\"Python list:\", arr_list)"
      ],
      "metadata": {
        "colab": {
          "base_uri": "https://localhost:8080/"
        },
        "id": "_mdGQKhAr7zN",
        "outputId": "f4b9913d-f2d8-4f5a-f4b8-e483c0fda08c"
      },
      "execution_count": 14,
      "outputs": [
        {
          "output_type": "stream",
          "name": "stdout",
          "text": [
            "Python list: [1, 2, 3, 4, 5]\n"
          ]
        }
      ]
    },
    {
      "cell_type": "code",
      "source": [
        "arr = arr_np + 5\n",
        "print(\"NumPy array after addition:\", arr)"
      ],
      "metadata": {
        "colab": {
          "base_uri": "https://localhost:8080/"
        },
        "id": "fVXVG_2GsHya",
        "outputId": "9d6b05d8-59a1-4bf9-c783-d33ee7c56440"
      },
      "execution_count": 16,
      "outputs": [
        {
          "output_type": "stream",
          "name": "stdout",
          "text": [
            "NumPy array after addition: [ 6  7  8  9 10]\n"
          ]
        }
      ]
    },
    {
      "cell_type": "code",
      "source": [
        "arr_add = [x + 5 for x in arr_list]\n",
        "print(\"Python list after addition:\", arr_add)"
      ],
      "metadata": {
        "colab": {
          "base_uri": "https://localhost:8080/"
        },
        "id": "tI4i3DKVsPOi",
        "outputId": "10d5d8c3-7140-46d3-ae7f-ab11931d15f2"
      },
      "execution_count": 17,
      "outputs": [
        {
          "output_type": "stream",
          "name": "stdout",
          "text": [
            "Python list after addition: [6, 7, 8, 9, 10]\n"
          ]
        }
      ]
    },
    {
      "cell_type": "markdown",
      "source": [
        "loop is needed for list,while numpy its not."
      ],
      "metadata": {
        "id": "whDy6eeusvMb"
      }
    },
    {
      "cell_type": "code",
      "source": [],
      "metadata": {
        "id": "T-FORv4Ysrn6"
      },
      "execution_count": null,
      "outputs": []
    },
    {
      "cell_type": "markdown",
      "source": [
        "6. Analyze the performance benefits of NumPy arrays over Python lists for large-scale numerical operation?"
      ],
      "metadata": {
        "id": "Sde73Dkms1af"
      }
    },
    {
      "cell_type": "markdown",
      "source": [
        "1.ndarrays are stored in contiguous blocks of memory while python list are non-contigous.\n",
        "\n",
        "2. All elements in a NumPy array are of the same type homogenous,while list are heterogenous.\n",
        "\n",
        "3.NumPy Offers broadcasting,while python list lacks of build broadcasting.\n"
      ],
      "metadata": {
        "id": "c8ZvSftQtKvC"
      }
    },
    {
      "cell_type": "markdown",
      "source": [
        "7. Compare vstack() and hstack() functions in NumPy. Provide examples demonstrating their usage and\n",
        "output."
      ],
      "metadata": {
        "id": "-4r2DkUkvHdT"
      }
    },
    {
      "cell_type": "markdown",
      "source": [
        "In NumPy, vstack() and hstack() are functions used to stack arrays vertically and horizontally."
      ],
      "metadata": {
        "id": "_wieIV_KvTfl"
      }
    },
    {
      "cell_type": "code",
      "source": [
        "import numpy as np\n",
        "array1 = np.array([[1, 2, 3],\n",
        "                   [4, 5, 6]])\n",
        "\n",
        "array2 = np.array([[7, 8, 9],\n",
        "                   [10, 11, 12]])\n",
        "\n",
        "result_vstack = np.vstack((array1, array2))\n",
        "result_vstack"
      ],
      "metadata": {
        "colab": {
          "base_uri": "https://localhost:8080/"
        },
        "id": "lK5m71yPvTA5",
        "outputId": "faff1ae7-730a-4a9b-8af1-2f417b4b710a"
      },
      "execution_count": 19,
      "outputs": [
        {
          "output_type": "execute_result",
          "data": {
            "text/plain": [
              "array([[ 1,  2,  3],\n",
              "       [ 4,  5,  6],\n",
              "       [ 7,  8,  9],\n",
              "       [10, 11, 12]])"
            ]
          },
          "metadata": {},
          "execution_count": 19
        }
      ]
    },
    {
      "cell_type": "code",
      "source": [
        "\n",
        "result_hstack = np.hstack((array1, array2))\n",
        "result_hstack"
      ],
      "metadata": {
        "colab": {
          "base_uri": "https://localhost:8080/"
        },
        "id": "wIdpXUfGs9AX",
        "outputId": "0d0651d7-8b3f-4583-fd88-5f4bbf9429b6"
      },
      "execution_count": 20,
      "outputs": [
        {
          "output_type": "execute_result",
          "data": {
            "text/plain": [
              "array([[ 1,  2,  3,  7,  8,  9],\n",
              "       [ 4,  5,  6, 10, 11, 12]])"
            ]
          },
          "metadata": {},
          "execution_count": 20
        }
      ]
    },
    {
      "cell_type": "markdown",
      "source": [
        "8. Explain the differences between fliplr() and flipud() methods in NumPy, including their effects on various\n",
        "array dimensions."
      ],
      "metadata": {
        "id": "_aLgmwqGwgSH"
      }
    },
    {
      "cell_type": "markdown",
      "source": [
        "fliplr():-\n",
        " Flips an array left to right (horizontally).\n",
        " It reverses the order of columns in a 2D array.\n",
        "\n",
        " flipud()\n",
        " Flips an array up to down (vertically).\n",
        " It reverses the order of rows in a 2D array."
      ],
      "metadata": {
        "id": "nZaH1q7qwth7"
      }
    },
    {
      "cell_type": "code",
      "source": [
        "import numpy as np\n",
        "array = np.array([[1, 2, 3],\n",
        "                     [4, 5, 6],\n",
        "                     [7, 8, 9]])\n",
        "hflip = np.fliplr(array)\n",
        "hflip"
      ],
      "metadata": {
        "colab": {
          "base_uri": "https://localhost:8080/"
        },
        "id": "-sVG8LDvwQO_",
        "outputId": "07b03297-86da-47e2-d20b-9a82cf6b4ab7"
      },
      "execution_count": 21,
      "outputs": [
        {
          "output_type": "execute_result",
          "data": {
            "text/plain": [
              "array([[3, 2, 1],\n",
              "       [6, 5, 4],\n",
              "       [9, 8, 7]])"
            ]
          },
          "metadata": {},
          "execution_count": 21
        }
      ]
    },
    {
      "cell_type": "code",
      "source": [
        "vflip = np.flipud(array)\n",
        "vflip"
      ],
      "metadata": {
        "colab": {
          "base_uri": "https://localhost:8080/"
        },
        "id": "i4yKv8LCxzfs",
        "outputId": "ebafc128-7c99-4d7b-a264-3f193d2d23b0"
      },
      "execution_count": 22,
      "outputs": [
        {
          "output_type": "execute_result",
          "data": {
            "text/plain": [
              "array([[7, 8, 9],\n",
              "       [4, 5, 6],\n",
              "       [1, 2, 3]])"
            ]
          },
          "metadata": {},
          "execution_count": 22
        }
      ]
    },
    {
      "cell_type": "markdown",
      "source": [
        "9. Discuss the functionality of the array_split() method in NumPy. How does it handle uneven splits?"
      ],
      "metadata": {
        "id": "hwomDDiLx_VS"
      }
    },
    {
      "cell_type": "markdown",
      "source": [
        "The array_split() function in NumPy is used to split an array into multiple sub-arrays.\n",
        "\n",
        "It Handles Uneven Splits\n",
        "When splitting an array into a specified number of sections, array_split() handles the case where the number of elements does not evenly divide by the number of sections."
      ],
      "metadata": {
        "id": "V2HVlQ3OyZIq"
      }
    },
    {
      "cell_type": "code",
      "source": [
        "import numpy as np\n",
        "array = np.arange(10)\n",
        "\n",
        "\n",
        "split_array = np.array_split(array, 3)\n",
        "split_array"
      ],
      "metadata": {
        "colab": {
          "base_uri": "https://localhost:8080/"
        },
        "id": "cXLcUuj4x7kS",
        "outputId": "8e1cbf61-ac47-46c4-c38e-a39b03abae02"
      },
      "execution_count": 24,
      "outputs": [
        {
          "output_type": "execute_result",
          "data": {
            "text/plain": [
              "[array([0, 1, 2, 3]), array([4, 5, 6]), array([7, 8, 9])]"
            ]
          },
          "metadata": {},
          "execution_count": 24
        }
      ]
    },
    {
      "cell_type": "markdown",
      "source": [
        "unsplit array"
      ],
      "metadata": {
        "id": "c7p4fHkEzE25"
      }
    },
    {
      "cell_type": "code",
      "source": [
        "array2 = np.arange(7)\n",
        "split_array2 = np.array_split(array2, 3)\n",
        "split_array2"
      ],
      "metadata": {
        "colab": {
          "base_uri": "https://localhost:8080/"
        },
        "id": "UwiWtKEdy5_V",
        "outputId": "4932b7c1-6086-4668-bc04-1ef12dac861e"
      },
      "execution_count": 25,
      "outputs": [
        {
          "output_type": "execute_result",
          "data": {
            "text/plain": [
              "[array([0, 1, 2]), array([3, 4]), array([5, 6])]"
            ]
          },
          "metadata": {},
          "execution_count": 25
        }
      ]
    },
    {
      "cell_type": "markdown",
      "source": [
        "10. Explain the concepts of vectorization and broadcasting in NumPy. How do they contribute to efficient array\n",
        "operations?"
      ],
      "metadata": {
        "id": "RqGJk2oVzWWw"
      }
    },
    {
      "cell_type": "markdown",
      "source": [
        "Vectorization refers to the process of applying operations to entire arrays (or large chunks of data) at once, rather than using explicit loops."
      ],
      "metadata": {
        "id": "_YOw7yyC06lL"
      }
    },
    {
      "cell_type": "code",
      "source": [
        "import numpy as np\n",
        "a = np.random.rand(1000000)\n",
        "b = np.random.rand(1000000)\n",
        "\n",
        "\n",
        "result = a + b\n",
        "result"
      ],
      "metadata": {
        "colab": {
          "base_uri": "https://localhost:8080/"
        },
        "id": "MFIJ3NaJzPqc",
        "outputId": "c38891ff-cb31-4e17-f4eb-f1aa5f9440d3"
      },
      "execution_count": 26,
      "outputs": [
        {
          "output_type": "execute_result",
          "data": {
            "text/plain": [
              "array([1.80063601, 1.65165872, 0.36158608, ..., 0.39916694, 1.02094554,\n",
              "       0.99027149])"
            ]
          },
          "metadata": {},
          "execution_count": 26
        }
      ]
    },
    {
      "cell_type": "markdown",
      "source": [
        "Broadcasting is a feature that allows NumPy to perform arithmetic operations on arrays of different shapes and sizes without requiring explicit replication of data."
      ],
      "metadata": {
        "id": "32qmDp722AN6"
      }
    },
    {
      "cell_type": "code",
      "source": [
        "array_2d = np.array([[1, 2, 3],\n",
        "                     [4, 5, 6]])\n",
        "array_1d = np.array([10, 20, 30])\n",
        "\n",
        "\n",
        "result_broadcast = array_2d + array_1d\n",
        "result_broadcast\n"
      ],
      "metadata": {
        "colab": {
          "base_uri": "https://localhost:8080/"
        },
        "id": "0hMPAaNl1bRd",
        "outputId": "5540a16f-965d-45c8-f5bc-1473c91ef761"
      },
      "execution_count": 27,
      "outputs": [
        {
          "output_type": "execute_result",
          "data": {
            "text/plain": [
              "array([[11, 22, 33],\n",
              "       [14, 25, 36]])"
            ]
          },
          "metadata": {},
          "execution_count": 27
        }
      ]
    },
    {
      "cell_type": "markdown",
      "source": [
        "Practical Questions:\n"
      ],
      "metadata": {
        "id": "5OTJldwv2S6u"
      }
    },
    {
      "cell_type": "markdown",
      "source": [
        "1. Create a 3x3 NumPy array with random integers between 1 and 100. Then, interchange its rows and columns"
      ],
      "metadata": {
        "id": "pa9xA6f62WIp"
      }
    },
    {
      "cell_type": "code",
      "source": [
        "import numpy as np\n",
        "array = np.random.randint(1, 101, size=(3, 3))\n",
        "array\n",
        "\n"
      ],
      "metadata": {
        "colab": {
          "base_uri": "https://localhost:8080/"
        },
        "id": "GvnO5Cat2Ij6",
        "outputId": "9a886e68-fb1f-48f9-cb91-d01a4e6b1ce2"
      },
      "execution_count": 28,
      "outputs": [
        {
          "output_type": "execute_result",
          "data": {
            "text/plain": [
              "array([[98, 83, 68],\n",
              "       [50, 14, 56],\n",
              "       [75, 27, 93]])"
            ]
          },
          "metadata": {},
          "execution_count": 28
        }
      ]
    },
    {
      "cell_type": "code",
      "source": [
        "array.T"
      ],
      "metadata": {
        "colab": {
          "base_uri": "https://localhost:8080/"
        },
        "id": "Xpp7jUEK2t5H",
        "outputId": "ff9208d3-a278-466f-fe16-a56a9a9ed15c"
      },
      "execution_count": 29,
      "outputs": [
        {
          "output_type": "execute_result",
          "data": {
            "text/plain": [
              "array([[98, 50, 75],\n",
              "       [83, 14, 27],\n",
              "       [68, 56, 93]])"
            ]
          },
          "metadata": {},
          "execution_count": 29
        }
      ]
    },
    {
      "cell_type": "markdown",
      "source": [
        "2. Generate a 1D NumPy array with 10 elements. Reshape it into a 2x5 array, then into a 5x2 array."
      ],
      "metadata": {
        "id": "70Fy7Vsh3fXE"
      }
    },
    {
      "cell_type": "code",
      "source": [
        "import numpy as np\n",
        "\n",
        "array_1d = np.arange(10)\n",
        "array_1d\n",
        "\n"
      ],
      "metadata": {
        "colab": {
          "base_uri": "https://localhost:8080/"
        },
        "id": "JkF5P0WM3FNe",
        "outputId": "b5b6db85-28db-42ca-cbd1-01450489bf92"
      },
      "execution_count": 31,
      "outputs": [
        {
          "output_type": "execute_result",
          "data": {
            "text/plain": [
              "array([0, 1, 2, 3, 4, 5, 6, 7, 8, 9])"
            ]
          },
          "metadata": {},
          "execution_count": 31
        }
      ]
    },
    {
      "cell_type": "code",
      "source": [
        "\n",
        "array_2x5 = array_1d.reshape(2, 5)\n",
        "array_2x5\n",
        "\n"
      ],
      "metadata": {
        "colab": {
          "base_uri": "https://localhost:8080/"
        },
        "id": "NolqZoev3ue2",
        "outputId": "ca46de5f-9277-4c18-c8f1-813a44a7b1bf"
      },
      "execution_count": 33,
      "outputs": [
        {
          "output_type": "execute_result",
          "data": {
            "text/plain": [
              "array([[0, 1, 2, 3, 4],\n",
              "       [5, 6, 7, 8, 9]])"
            ]
          },
          "metadata": {},
          "execution_count": 33
        }
      ]
    },
    {
      "cell_type": "code",
      "source": [
        "array_5x2 = array_1d.reshape(5, 2)\n",
        "array_5x2"
      ],
      "metadata": {
        "colab": {
          "base_uri": "https://localhost:8080/"
        },
        "id": "xBTqQQU537rz",
        "outputId": "0bcfd01c-9bcc-4087-a4ff-24b60552df66"
      },
      "execution_count": 34,
      "outputs": [
        {
          "output_type": "execute_result",
          "data": {
            "text/plain": [
              "array([[0, 1],\n",
              "       [2, 3],\n",
              "       [4, 5],\n",
              "       [6, 7],\n",
              "       [8, 9]])"
            ]
          },
          "metadata": {},
          "execution_count": 34
        }
      ]
    },
    {
      "cell_type": "markdown",
      "source": [
        "3. Create a 4x4 NumPy array with random float values. Add a border of zeros around it, resulting in a 6x6 array"
      ],
      "metadata": {
        "id": "2dWtSDLC4V3R"
      }
    },
    {
      "cell_type": "code",
      "source": [
        "import numpy as np\n",
        "array= np.random.rand(4, 4)\n",
        "array"
      ],
      "metadata": {
        "colab": {
          "base_uri": "https://localhost:8080/"
        },
        "id": "sN1SC46G3_z0",
        "outputId": "98142120-2779-4433-d9fb-25996ec088d6"
      },
      "execution_count": 35,
      "outputs": [
        {
          "output_type": "execute_result",
          "data": {
            "text/plain": [
              "array([[0.69278314, 0.37439535, 0.7196724 , 0.95168775],\n",
              "       [0.57655121, 0.46001848, 0.84555876, 0.44370517],\n",
              "       [0.51088015, 0.10149857, 0.7091176 , 0.74591736],\n",
              "       [0.35624873, 0.34737694, 0.79648062, 0.69286045]])"
            ]
          },
          "metadata": {},
          "execution_count": 35
        }
      ]
    },
    {
      "cell_type": "code",
      "source": [
        "array_border = np.pad(array, pad_width=1, mode='constant', constant_values=0)\n",
        "array_border"
      ],
      "metadata": {
        "colab": {
          "base_uri": "https://localhost:8080/"
        },
        "id": "qexhgXe25Wfb",
        "outputId": "ad496d20-9da8-4c70-a3d2-53960cc14910"
      },
      "execution_count": 37,
      "outputs": [
        {
          "output_type": "execute_result",
          "data": {
            "text/plain": [
              "array([[0.        , 0.        , 0.        , 0.        , 0.        ,\n",
              "        0.        ],\n",
              "       [0.        , 0.69278314, 0.37439535, 0.7196724 , 0.95168775,\n",
              "        0.        ],\n",
              "       [0.        , 0.57655121, 0.46001848, 0.84555876, 0.44370517,\n",
              "        0.        ],\n",
              "       [0.        , 0.51088015, 0.10149857, 0.7091176 , 0.74591736,\n",
              "        0.        ],\n",
              "       [0.        , 0.35624873, 0.34737694, 0.79648062, 0.69286045,\n",
              "        0.        ],\n",
              "       [0.        , 0.        , 0.        , 0.        , 0.        ,\n",
              "        0.        ]])"
            ]
          },
          "metadata": {},
          "execution_count": 37
        }
      ]
    },
    {
      "cell_type": "markdown",
      "source": [
        "4. Using NumPy, create an array of integers from 10 to 60 with a step of 5."
      ],
      "metadata": {
        "id": "tSlx-AeU6CFo"
      }
    },
    {
      "cell_type": "code",
      "source": [
        "import numpy as np\n",
        "array = np.arange(10, 61, 5)\n",
        "array"
      ],
      "metadata": {
        "colab": {
          "base_uri": "https://localhost:8080/"
        },
        "id": "y3p30L0355Iw",
        "outputId": "cab5d3aa-6803-4afb-acfa-5183c66317d6"
      },
      "execution_count": 38,
      "outputs": [
        {
          "output_type": "execute_result",
          "data": {
            "text/plain": [
              "array([10, 15, 20, 25, 30, 35, 40, 45, 50, 55, 60])"
            ]
          },
          "metadata": {},
          "execution_count": 38
        }
      ]
    },
    {
      "cell_type": "markdown",
      "source": [
        "5. Create a NumPy array of strings ['python', 'numpy', 'pandaas']. Apply different case transformations\n",
        "(uppercase, lowercase, title case, etc.) to each element."
      ],
      "metadata": {
        "id": "zqq-Rc466PKv"
      }
    },
    {
      "cell_type": "code",
      "source": [
        "import numpy as np\n",
        "string_array = np.array(['python', 'numpy', 'pandas'])\n",
        "\n",
        "uppercase = np.char.upper(string_array)\n",
        "uppercase"
      ],
      "metadata": {
        "colab": {
          "base_uri": "https://localhost:8080/"
        },
        "id": "vB4MFoB_6LOt",
        "outputId": "ec25e42e-1fd2-458e-e723-c5ce3f6efd40"
      },
      "execution_count": 39,
      "outputs": [
        {
          "output_type": "execute_result",
          "data": {
            "text/plain": [
              "array(['PYTHON', 'NUMPY', 'PANDAS'], dtype='<U6')"
            ]
          },
          "metadata": {},
          "execution_count": 39
        }
      ]
    },
    {
      "cell_type": "code",
      "source": [
        "lowercase_array = np.char.lower(string_array)\n",
        "lowercase_array"
      ],
      "metadata": {
        "colab": {
          "base_uri": "https://localhost:8080/"
        },
        "id": "UntnLGmQ69PQ",
        "outputId": "baea01d4-d1c7-41d5-e943-27fbda0ae4b1"
      },
      "execution_count": 40,
      "outputs": [
        {
          "output_type": "execute_result",
          "data": {
            "text/plain": [
              "array(['python', 'numpy', 'pandas'], dtype='<U6')"
            ]
          },
          "metadata": {},
          "execution_count": 40
        }
      ]
    },
    {
      "cell_type": "code",
      "source": [
        "titlecase_array = np.char.title(string_array)\n",
        "titlecase_array"
      ],
      "metadata": {
        "colab": {
          "base_uri": "https://localhost:8080/"
        },
        "id": "1KXkpncT7Et5",
        "outputId": "0c2c9137-2712-4825-f49d-b794eeede67e"
      },
      "execution_count": 41,
      "outputs": [
        {
          "output_type": "execute_result",
          "data": {
            "text/plain": [
              "array(['Python', 'Numpy', 'Pandas'], dtype='<U6')"
            ]
          },
          "metadata": {},
          "execution_count": 41
        }
      ]
    },
    {
      "cell_type": "markdown",
      "source": [
        "6. Generate a NumPy array of words. Insert a space between each character of every word in the array."
      ],
      "metadata": {
        "id": "2u2IYyw77oL4"
      }
    },
    {
      "cell_type": "code",
      "source": [
        "import numpy as np\n",
        "words_array = np.array(['hello', 'world', 'numpy', 'pandas'])\n",
        "words_array"
      ],
      "metadata": {
        "colab": {
          "base_uri": "https://localhost:8080/"
        },
        "id": "EN1O-WM27T_n",
        "outputId": "e8c50c96-0ec6-4a24-d93b-024faf121a12"
      },
      "execution_count": 42,
      "outputs": [
        {
          "output_type": "execute_result",
          "data": {
            "text/plain": [
              "array(['hello', 'world', 'numpy', 'pandas'], dtype='<U6')"
            ]
          },
          "metadata": {},
          "execution_count": 42
        }
      ]
    },
    {
      "cell_type": "code",
      "source": [
        "spaced_array = np.char.join(' ', words_array)\n",
        "spaced_array"
      ],
      "metadata": {
        "colab": {
          "base_uri": "https://localhost:8080/"
        },
        "id": "OreYKd1n7xiR",
        "outputId": "ae3c5204-d739-4d4f-ccb9-fc25f61bec76"
      },
      "execution_count": 43,
      "outputs": [
        {
          "output_type": "execute_result",
          "data": {
            "text/plain": [
              "array(['h e l l o', 'w o r l d', 'n u m p y', 'p a n d a s'], dtype='<U11')"
            ]
          },
          "metadata": {},
          "execution_count": 43
        }
      ]
    },
    {
      "cell_type": "markdown",
      "source": [
        "7. Create two 2D NumPy arrays and perform element-wise addition, subtraction, multiplication, and division"
      ],
      "metadata": {
        "id": "wupALYda8B9X"
      }
    },
    {
      "cell_type": "code",
      "source": [
        "import numpy as np\n",
        "array1 = np.array([[1, 2, 3],\n",
        "                   [4, 5, 6]])\n",
        "\n",
        "array2 = np.array([[7, 8, 9],\n",
        "                   [10, 11, 12]])\n"
      ],
      "metadata": {
        "id": "uiXzK_Zg76Xu"
      },
      "execution_count": 44,
      "outputs": []
    },
    {
      "cell_type": "code",
      "source": [
        "array1"
      ],
      "metadata": {
        "colab": {
          "base_uri": "https://localhost:8080/"
        },
        "id": "AJxM9A0h8L-C",
        "outputId": "9e63aed7-453f-4a97-acdc-a81583f1f721"
      },
      "execution_count": 45,
      "outputs": [
        {
          "output_type": "execute_result",
          "data": {
            "text/plain": [
              "array([[1, 2, 3],\n",
              "       [4, 5, 6]])"
            ]
          },
          "metadata": {},
          "execution_count": 45
        }
      ]
    },
    {
      "cell_type": "code",
      "source": [
        "array2"
      ],
      "metadata": {
        "colab": {
          "base_uri": "https://localhost:8080/"
        },
        "id": "Me6Ulipt8Nwg",
        "outputId": "0357b5c9-8fc0-40c9-ebc8-61bb917c2b5a"
      },
      "execution_count": 46,
      "outputs": [
        {
          "output_type": "execute_result",
          "data": {
            "text/plain": [
              "array([[ 7,  8,  9],\n",
              "       [10, 11, 12]])"
            ]
          },
          "metadata": {},
          "execution_count": 46
        }
      ]
    },
    {
      "cell_type": "code",
      "source": [
        "array1+array2"
      ],
      "metadata": {
        "colab": {
          "base_uri": "https://localhost:8080/"
        },
        "id": "VEfemz9m8P7P",
        "outputId": "6cf9eb0e-f337-4076-fe97-b8ab3c177cc2"
      },
      "execution_count": 47,
      "outputs": [
        {
          "output_type": "execute_result",
          "data": {
            "text/plain": [
              "array([[ 8, 10, 12],\n",
              "       [14, 16, 18]])"
            ]
          },
          "metadata": {},
          "execution_count": 47
        }
      ]
    },
    {
      "cell_type": "code",
      "source": [
        "array1 - array2"
      ],
      "metadata": {
        "colab": {
          "base_uri": "https://localhost:8080/"
        },
        "id": "qRGx34jU8Sca",
        "outputId": "15ada863-f99a-4dc6-8c5a-74e549f7303c"
      },
      "execution_count": 48,
      "outputs": [
        {
          "output_type": "execute_result",
          "data": {
            "text/plain": [
              "array([[-6, -6, -6],\n",
              "       [-6, -6, -6]])"
            ]
          },
          "metadata": {},
          "execution_count": 48
        }
      ]
    },
    {
      "cell_type": "code",
      "source": [
        "array1 * array2"
      ],
      "metadata": {
        "colab": {
          "base_uri": "https://localhost:8080/"
        },
        "id": "nzFTCRir8X-C",
        "outputId": "be21ecd5-2447-4c6d-c252-df64ec5b16fc"
      },
      "execution_count": 49,
      "outputs": [
        {
          "output_type": "execute_result",
          "data": {
            "text/plain": [
              "array([[ 7, 16, 27],\n",
              "       [40, 55, 72]])"
            ]
          },
          "metadata": {},
          "execution_count": 49
        }
      ]
    },
    {
      "cell_type": "code",
      "source": [
        "array1 / array2"
      ],
      "metadata": {
        "colab": {
          "base_uri": "https://localhost:8080/"
        },
        "id": "Efz586Wi8bWq",
        "outputId": "cc2754f3-2eac-4964-cc72-c5837b365eba"
      },
      "execution_count": 50,
      "outputs": [
        {
          "output_type": "execute_result",
          "data": {
            "text/plain": [
              "array([[0.14285714, 0.25      , 0.33333333],\n",
              "       [0.4       , 0.45454545, 0.5       ]])"
            ]
          },
          "metadata": {},
          "execution_count": 50
        }
      ]
    },
    {
      "cell_type": "markdown",
      "source": [
        "8. Use NumPy to create a 5x5 identity matrix, then extract its diagonal elements."
      ],
      "metadata": {
        "id": "EpabKUps8k5T"
      }
    },
    {
      "cell_type": "code",
      "source": [
        "import numpy as np\n",
        "\n",
        "identity= np.eye(5)\n",
        "identity"
      ],
      "metadata": {
        "colab": {
          "base_uri": "https://localhost:8080/"
        },
        "id": "bpogfdMo8eR-",
        "outputId": "7cc2365a-73fb-461e-f308-84a01c545e40"
      },
      "execution_count": 51,
      "outputs": [
        {
          "output_type": "execute_result",
          "data": {
            "text/plain": [
              "array([[1., 0., 0., 0., 0.],\n",
              "       [0., 1., 0., 0., 0.],\n",
              "       [0., 0., 1., 0., 0.],\n",
              "       [0., 0., 0., 1., 0.],\n",
              "       [0., 0., 0., 0., 1.]])"
            ]
          },
          "metadata": {},
          "execution_count": 51
        }
      ]
    },
    {
      "cell_type": "code",
      "source": [
        "diagonal_elements = np.diagonal(identity)\n",
        "diagonal_elements\n"
      ],
      "metadata": {
        "colab": {
          "base_uri": "https://localhost:8080/"
        },
        "id": "2B5_EVe58uiV",
        "outputId": "2ccab01b-8ad2-4849-8723-eefda3a73bc5"
      },
      "execution_count": 52,
      "outputs": [
        {
          "output_type": "execute_result",
          "data": {
            "text/plain": [
              "array([1., 1., 1., 1., 1.])"
            ]
          },
          "metadata": {},
          "execution_count": 52
        }
      ]
    },
    {
      "cell_type": "markdown",
      "source": [
        "9. Generate a NumPy array of 100 random integers between 0 and 1000. Find and display all prime numbers in\n",
        "this array."
      ],
      "metadata": {
        "id": "3_zHDicE9MjG"
      }
    },
    {
      "cell_type": "code",
      "source": [
        "import numpy as np\n",
        "def is_prime(n):\n",
        "    if n <= 1:\n",
        "        return False\n",
        "    for i in range(2, int(n**0.5) + 1):\n",
        "        if n % i == 0:\n",
        "            return False\n",
        "    return True"
      ],
      "metadata": {
        "id": "G-tX5vw09CiR"
      },
      "execution_count": 53,
      "outputs": []
    },
    {
      "cell_type": "code",
      "source": [
        "random_array = np.random.randint(0, 1001, size=100)\n",
        "random_array"
      ],
      "metadata": {
        "colab": {
          "base_uri": "https://localhost:8080/"
        },
        "id": "KxRI-bAY9esR",
        "outputId": "43e40565-5ba6-4641-d107-ff15f399b51a"
      },
      "execution_count": 54,
      "outputs": [
        {
          "output_type": "execute_result",
          "data": {
            "text/plain": [
              "array([293, 390, 814, 508, 930, 848, 837, 903, 725, 974, 195, 666, 594,\n",
              "       903, 245, 174, 226, 136, 348, 176, 609, 468, 448, 814, 558, 644,\n",
              "       578, 679, 309, 205, 457, 615,  66,  86, 100, 614, 404, 602, 298,\n",
              "       933, 382, 119, 492, 316, 561, 618,  62, 782,  54, 205, 431, 788,\n",
              "       220, 869, 778, 936, 456,  23, 396, 323, 913, 488, 137, 312, 278,\n",
              "       761, 612,  44, 483, 911, 493, 884, 160, 898, 770, 142,  42, 344,\n",
              "       996, 477, 745, 666, 724, 997, 954, 423, 326, 788, 588, 520, 250,\n",
              "       794, 498, 583, 745, 455, 316, 396, 586, 911])"
            ]
          },
          "metadata": {},
          "execution_count": 54
        }
      ]
    },
    {
      "cell_type": "code",
      "source": [
        "prime_numbers = [num for num in random_array if is_prime(num)]\n",
        "prime_numbers"
      ],
      "metadata": {
        "colab": {
          "base_uri": "https://localhost:8080/"
        },
        "id": "ROWwCLC49jr5",
        "outputId": "4778498a-4b3e-4054-97ac-dff91754cafd"
      },
      "execution_count": 55,
      "outputs": [
        {
          "output_type": "execute_result",
          "data": {
            "text/plain": [
              "[293, 457, 431, 23, 137, 761, 911, 997, 911]"
            ]
          },
          "metadata": {},
          "execution_count": 55
        }
      ]
    },
    {
      "cell_type": "markdown",
      "source": [
        "10. Create a NumPy array representing daily temperatures for a month. Calculate and display the weekly\n",
        "averages."
      ],
      "metadata": {
        "id": "tBUb5bNQ-kwo"
      }
    },
    {
      "cell_type": "code",
      "source": [
        "import numpy as np\n",
        "daily_temperatures = np.random.uniform(15, 35, size=60)\n",
        "daily_temperatures\n"
      ],
      "metadata": {
        "colab": {
          "base_uri": "https://localhost:8080/"
        },
        "id": "KH86Qe08-e6K",
        "outputId": "f367520c-5e81-479a-f2a9-6686d4940a58"
      },
      "execution_count": 63,
      "outputs": [
        {
          "output_type": "execute_result",
          "data": {
            "text/plain": [
              "array([15.5618072 , 23.24088999, 17.94953088, 20.1708938 , 28.43932545,\n",
              "       25.92705989, 17.39848674, 20.61655809, 15.29098034, 24.2408924 ,\n",
              "       22.06214061, 18.86504289, 32.65147435, 24.61663661, 33.32024198,\n",
              "       24.08535691, 34.11194419, 28.36750277, 24.03601668, 33.25833179,\n",
              "       33.06030185, 24.08955253, 19.47023949, 20.2307827 , 21.94552314,\n",
              "       27.28103867, 18.68884499, 18.56855237, 27.68763284, 30.3514099 ,\n",
              "       34.54876085, 17.26367043, 32.02417086, 21.92392208, 20.90952371,\n",
              "       23.62639754, 23.65272514, 21.556995  , 24.32442335, 33.75356769,\n",
              "       28.38341712, 20.29935952, 22.02913192, 31.14896986, 23.08152877,\n",
              "       32.22045972, 15.0222996 , 21.73019776, 28.53151066, 18.63523705,\n",
              "       27.13418644, 18.1742981 , 20.7647273 , 33.40191482, 26.44129296,\n",
              "       30.0909741 , 27.29461741, 24.55770363, 16.81494359, 16.17294832])"
            ]
          },
          "metadata": {},
          "execution_count": 63
        }
      ]
    },
    {
      "cell_type": "code",
      "source": [
        "num_weeks = len(daily_temperatures) // 7\n",
        "num_weeks"
      ],
      "metadata": {
        "colab": {
          "base_uri": "https://localhost:8080/"
        },
        "id": "gS1OiMaN_1ys",
        "outputId": "e67511d6-8884-4fed-fb5c-f709b6825cbb"
      },
      "execution_count": 60,
      "outputs": [
        {
          "output_type": "execute_result",
          "data": {
            "text/plain": [
              "4"
            ]
          },
          "metadata": {},
          "execution_count": 60
        }
      ]
    },
    {
      "cell_type": "code",
      "source": [
        "weeks = daily_temperatures.reshape(num_weeks, -1)\n",
        "weeks"
      ],
      "metadata": {
        "colab": {
          "base_uri": "https://localhost:8080/"
        },
        "id": "vZiGDBqp_6Qv",
        "outputId": "01a245a1-72cf-4377-b2dd-e3239883a2c0"
      },
      "execution_count": 64,
      "outputs": [
        {
          "output_type": "execute_result",
          "data": {
            "text/plain": [
              "array([[15.5618072 , 23.24088999, 17.94953088, 20.1708938 , 28.43932545,\n",
              "        25.92705989, 17.39848674, 20.61655809, 15.29098034, 24.2408924 ,\n",
              "        22.06214061, 18.86504289, 32.65147435, 24.61663661, 33.32024198],\n",
              "       [24.08535691, 34.11194419, 28.36750277, 24.03601668, 33.25833179,\n",
              "        33.06030185, 24.08955253, 19.47023949, 20.2307827 , 21.94552314,\n",
              "        27.28103867, 18.68884499, 18.56855237, 27.68763284, 30.3514099 ],\n",
              "       [34.54876085, 17.26367043, 32.02417086, 21.92392208, 20.90952371,\n",
              "        23.62639754, 23.65272514, 21.556995  , 24.32442335, 33.75356769,\n",
              "        28.38341712, 20.29935952, 22.02913192, 31.14896986, 23.08152877],\n",
              "       [32.22045972, 15.0222996 , 21.73019776, 28.53151066, 18.63523705,\n",
              "        27.13418644, 18.1742981 , 20.7647273 , 33.40191482, 26.44129296,\n",
              "        30.0909741 , 27.29461741, 24.55770363, 16.81494359, 16.17294832]])"
            ]
          },
          "metadata": {},
          "execution_count": 64
        }
      ]
    },
    {
      "cell_type": "code",
      "source": [
        "\n",
        "weekly_averages = np.mean(weeks, axis=1)\n",
        "weekly_averages\n"
      ],
      "metadata": {
        "colab": {
          "base_uri": "https://localhost:8080/"
        },
        "id": "yszMIIJRAC3j",
        "outputId": "e9d21518-47bb-4c31-f997-54bcefbe4fb3"
      },
      "execution_count": 66,
      "outputs": [
        {
          "output_type": "execute_result",
          "data": {
            "text/plain": [
              "array([22.69013075, 25.68220205, 25.23510426, 23.7991541 ])"
            ]
          },
          "metadata": {},
          "execution_count": 66
        }
      ]
    }
  ]
}